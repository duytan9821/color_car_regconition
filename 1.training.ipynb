{
 "cells": [
  {
   "cell_type": "code",
   "execution_count": 1,
   "metadata": {},
   "outputs": [],
   "source": [
    "import torch\n",
    "import torch.nn as nn\n",
    "# Set random seeds\n",
    "torch.manual_seed(42) \n",
    "torch.cuda.manual_seed(42)\n",
    "torch.cuda.manual_seed_all(42)\n",
    "\n",
    "\n",
    "from model import SimpleNet, ColorNet\n",
    "from dataloader import Color_Dataloader\n",
    "from train import train\n",
    "\n",
    "import warnings\n",
    "warnings.filterwarnings(\"ignore\")"
   ]
  },
  {
   "cell_type": "code",
   "execution_count": 2,
   "metadata": {},
   "outputs": [],
   "source": [
    "DIR_DATASET = 'dataset'\n",
    "PATH_MODEL = 'weights/simple_model.pt'\n",
    "NUM_EPOCHS = 50\n",
    "NUM_CLASSES = 9\n",
    "PATIENT = 5\n",
    "LR = 0.001\n",
    "BATCH_SIZE = 10\n",
    "DEVICE = 'cuda'"
   ]
  },
  {
   "cell_type": "code",
   "execution_count": 3,
   "metadata": {},
   "outputs": [],
   "source": [
    "train_loader, test_loader = Color_Dataloader(\n",
    "    dir_dataset=DIR_DATASET,\n",
    "    batch_size=BATCH_SIZE\n",
    ")"
   ]
  },
  {
   "cell_type": "code",
   "execution_count": 4,
   "metadata": {},
   "outputs": [],
   "source": [
    "net = ColorNet(\n",
    "    num_classes = NUM_CLASSES\n",
    ")\n",
    "model = net.to(DEVICE)"
   ]
  },
  {
   "cell_type": "code",
   "execution_count": 5,
   "metadata": {},
   "outputs": [
    {
     "data": {
      "application/vnd.jupyter.widget-view+json": {
       "model_id": "8dc2b3e8060d4411a85c4586bf80f3f5",
       "version_major": 2,
       "version_minor": 0
      },
      "text/plain": [
       "  0%|          | 0/50 [00:00<?, ?it/s]"
      ]
     },
     "metadata": {},
     "output_type": "display_data"
    },
    {
     "name": "stdout",
     "output_type": "stream",
     "text": [
      "Model improve from  0.0000 to  0.1666\n",
      "Model improve from  0.1666 to  0.3637\n",
      "Model improve from  0.3637 to  0.4583\n",
      "Model improve from  0.4583 to  0.5627\n",
      "Model not improver 1/5\n",
      "Model not improver 2/5\n",
      "Model improve from  0.5627 to  0.6065\n",
      "Model improve from  0.6065 to  0.6381\n",
      "Model improve from  0.6381 to  0.6477\n",
      "Model not improver 1/5\n",
      "Model improve from  0.6477 to  0.7753\n",
      "Model not improver 1/5\n",
      "Model not improver 2/5\n",
      "Model not improver 3/5\n",
      "Model not improver 4/5\n",
      "Model improve from  0.7753 to  0.8449\n",
      "Model not improver 1/5\n",
      "Model not improver 2/5\n",
      "Model not improver 3/5\n",
      "Model not improver 4/5\n",
      "Model improve from  0.8449 to  0.8761\n",
      "Model not improver 1/5\n",
      "Model improve from  0.8761 to  0.8803\n",
      "Model not improver 1/5\n",
      "Model not improver 2/5\n",
      "Model not improver 3/5\n",
      "Model not improver 4/5\n",
      "Model improve from  0.8803 to  0.9101\n",
      "Model not improver 1/5\n",
      "Model not improver 2/5\n",
      "Model not improver 3/5\n",
      "Model not improver 4/5\n",
      "Model improve from  0.9101 to  0.9115\n",
      "Model not improver 1/5\n",
      "Model improve from  0.9115 to  0.9453\n",
      "Model not improver 1/5\n",
      "Model improve from  0.9453 to  0.9525\n",
      "Model improve from  0.9525 to  0.9582\n",
      "Model not improver 1/5\n",
      "Model improve from  0.9582 to  0.9696\n",
      "Model not improver 1/5\n",
      "Model not improver 2/5\n",
      "Model not improver 3/5\n",
      "Model improve from  0.9696 to  0.9834\n",
      "Model not improver 1/5\n",
      "Model not improver 2/5\n",
      "Model not improver 3/5\n",
      "Model not improver 4/5\n",
      "Model not improver 5/5\n",
      "Model Early stopping at 48 eps with F1_score best is  0.9834\n"
     ]
    }
   ],
   "source": [
    "loss_fn = nn.CrossEntropyLoss()\n",
    "#optimizer = torch.optim.Adam(params=model.parameters(), lr=LR)\n",
    "optimizer = torch.optim.SGD(params=model.parameters(), lr=LR, momentum=0.9)\n",
    "model_0_results = train(model=model, \n",
    "                        train_dataloader=train_loader,\n",
    "                        test_dataloader=train_loader,\n",
    "                        optimizer=optimizer,\n",
    "                        loss_fn=loss_fn, \n",
    "                        epochs=NUM_EPOCHS,\n",
    "                        patient= PATIENT,\n",
    "                        model_path=PATH_MODEL,\n",
    "                        device=DEVICE)\n"
   ]
  },
  {
   "cell_type": "markdown",
   "metadata": {},
   "source": [
    "# Simple Net\n",
    " batch_size | dropout | learning rate |F1-train |F1-test|\n",
    "| --- | --- | --- | --- | --- |\n",
    "| 32 | 0.4 | 0.001| 0.88|0.79|\n",
    "| 32 | 0.2 | 0.001| 0.82|0.74|\n",
    "| 32 | 0.5 | 0.001| 0.81|0.76|\n",
    "| 64 | 0.4 | 0.001| 0.80|0.67|\n",
    "| 32 | 0.4 | 0.005| 0.76|0.48|\n",
    "| 32 | 0.4 | 0.0005| 0.74|0.73|\n",
    "| 32 | 0.4 | 0.0007| 0.88|0.79|\n",
    "| 32 | 0.4 | 0.00085| 0.89|0.79|\n",
    "\n",
    "# Color NET\n",
    "# Simple Net\n",
    " batch_size |learning rate |F1-train |F1-test|\n",
    "| --- | --- | --- | --- |\n",
    "<!-- | 10 | 0.001| 0.88|0.79| -->\n"
   ]
  },
  {
   "cell_type": "code",
   "execution_count": null,
   "metadata": {},
   "outputs": [],
   "source": []
  },
  {
   "cell_type": "code",
   "execution_count": null,
   "metadata": {},
   "outputs": [],
   "source": []
  }
 ],
 "metadata": {
  "kernelspec": {
   "display_name": "Python 3.10.6 ('cv_scan')",
   "language": "python",
   "name": "python3"
  },
  "language_info": {
   "codemirror_mode": {
    "name": "ipython",
    "version": 3
   },
   "file_extension": ".py",
   "mimetype": "text/x-python",
   "name": "python",
   "nbconvert_exporter": "python",
   "pygments_lexer": "ipython3",
   "version": "3.10.6"
  },
  "orig_nbformat": 4,
  "vscode": {
   "interpreter": {
    "hash": "94296192351fc6953fcc31a5dfbf39f972021cb8023122eab85886b54a178871"
   }
  }
 },
 "nbformat": 4,
 "nbformat_minor": 2
}
