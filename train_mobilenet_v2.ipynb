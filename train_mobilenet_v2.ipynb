{
 "cells": [
  {
   "cell_type": "code",
   "execution_count": 2,
   "metadata": {},
   "outputs": [],
   "source": [
    "import torch\n",
    "import torch.nn as nn\n",
    "# Set random seeds\n",
    "torch.manual_seed(42) \n",
    "torch.cuda.manual_seed(42)\n",
    "torch.cuda.manual_seed_all(42)\n",
    "\n",
    "\n",
    "\n",
    "\n",
    "from dataloader import Color_Dataloader\n",
    "from train import train\n",
    "\n",
    "import warnings\n",
    "warnings.filterwarnings(\"ignore\")"
   ]
  },
  {
   "cell_type": "code",
   "execution_count": 3,
   "metadata": {},
   "outputs": [],
   "source": [
    "DIR_DATASET = 'dataset'\n",
    "PATH_MODEL = 'weights/mobilenetv2_9classes.pt'\n",
    "NUM_EPOCHS = 30\n",
    "NUM_CLASSES = 9\n",
    "PATIENT = 5\n",
    "LR = 0.001\n",
    "BATCH_SIZE = 10\n",
    "DEVICE = torch.device(\"cuda:0\" if torch.cuda.is_available() else \"cpu\")"
   ]
  },
  {
   "cell_type": "code",
   "execution_count": 4,
   "metadata": {},
   "outputs": [],
   "source": [
    "train_loader, test_loader = Color_Dataloader(\n",
    "    dir_dataset=DIR_DATASET,\n",
    "    batch_size=BATCH_SIZE\n",
    ")"
   ]
  },
  {
   "cell_type": "code",
   "execution_count": 5,
   "metadata": {},
   "outputs": [],
   "source": [
    "from torchvision import models\n",
    "model_ft = models.mobilenet_v2(pretrained=True)\n",
    "\n",
    "num_ftrs = model_ft.classifier[1].in_features\n",
    "model_ft.classifier[1] = nn.Linear(num_ftrs, NUM_CLASSES)\n",
    "model = model_ft.to(DEVICE)"
   ]
  },
  {
   "cell_type": "code",
   "execution_count": null,
   "metadata": {},
   "outputs": [],
   "source": [
    "loss_fn = nn.CrossEntropyLoss()\n",
    "#optimizer = torch.optim.Adam(params=model.parameters(), lr=LR)\n",
    "optimizer = torch.optim.SGD(params=model.parameters(), lr=LR, momentum=0.9)\n",
    "model_0_results = train(model=model, \n",
    "                        train_dataloader=train_loader,\n",
    "                        test_dataloader=test_loader,\n",
    "                        optimizer=optimizer,\n",
    "                        loss_fn=loss_fn, \n",
    "                        epochs=NUM_EPOCHS,\n",
    "                        patient= PATIENT,\n",
    "                        model_path=PATH_MODEL,\n",
    "                        device=DEVICE)\n"
   ]
  }
 ],
 "metadata": {
  "kernelspec": {
   "display_name": "Python 3.9.12 ('base')",
   "language": "python",
   "name": "python3"
  },
  "language_info": {
   "codemirror_mode": {
    "name": "ipython",
    "version": 3
   },
   "file_extension": ".py",
   "mimetype": "text/x-python",
   "name": "python",
   "nbconvert_exporter": "python",
   "pygments_lexer": "ipython3",
   "version": "3.9.12"
  },
  "orig_nbformat": 4,
  "vscode": {
   "interpreter": {
    "hash": "dcba4c4f6097e3fa0082611b72b6f445cc0e37ca0dd7bdcdc74e8140e51a0e34"
   }
  }
 },
 "nbformat": 4,
 "nbformat_minor": 2
}
