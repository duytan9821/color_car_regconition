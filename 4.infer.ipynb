{
 "cells": [
  {
   "cell_type": "code",
   "execution_count": 5,
   "metadata": {},
   "outputs": [],
   "source": [
    "import torch\n",
    "from configs import TAGS\n",
    "from PIL import Image\n",
    "from torchvision import transforms\n",
    "import warnings\n",
    "warnings.filterwarnings(\"ignore\")"
   ]
  },
  {
   "cell_type": "code",
   "execution_count": 6,
   "metadata": {},
   "outputs": [],
   "source": [
    "PATH_MODEL = 'weights/mobilenet_11classes.pt'\n",
    "DEVICE = 'cpu'"
   ]
  },
  {
   "cell_type": "code",
   "execution_count": 7,
   "metadata": {},
   "outputs": [],
   "source": [
    "%%capture\n",
    "model = torch.load(PATH_MODEL, map_location=torch.device('cpu'))\n",
    "model.to(DEVICE)"
   ]
  },
  {
   "cell_type": "code",
   "execution_count": 8,
   "metadata": {},
   "outputs": [],
   "source": [
    "def infer(model, path: str, tags: list):\n",
    "    img = Image.open(path)\n",
    "    img = img.resize((224, 224))\n",
    "    convert_tensor = transforms.ToTensor()\n",
    "    img_tensor = convert_tensor(img).to(DEVICE)\n",
    "    batch_preds =model(img_tensor.unsqueeze(0))\n",
    "    idx = torch.argmax(torch.softmax(batch_preds, dim=1), dim=1).cpu().numpy().tolist()[0]\n",
    "    return tags[idx]"
   ]
  },
  {
   "cell_type": "code",
   "execution_count": 9,
   "metadata": {},
   "outputs": [
    {
     "name": "stdout",
     "output_type": "stream",
     "text": [
      "<class 'str'>\n"
     ]
    }
   ],
   "source": [
    "path = 'C:/Users/This/Desktop/Download/hj3vvx5946-1/Splited_dataset/test/Suzuki_margala/25151.jpg'\n",
    "color = infer(model, path, TAGS)\n",
    "print(type(color))"
   ]
  },
  {
   "cell_type": "code",
   "execution_count": 21,
   "metadata": {},
   "outputs": [
    {
     "ename": "error",
     "evalue": "OpenCV(4.6.0) :-1: error: (-5:Bad argument) in function 'putText'\n> Overload resolution failed:\n>  - Can't convert object to 'str' for 'text'\n>  - Can't convert object to 'str' for 'text'\n",
     "output_type": "error",
     "traceback": [
      "\u001b[1;31m---------------------------------------------------------------------------\u001b[0m",
      "\u001b[1;31merror\u001b[0m                                     Traceback (most recent call last)",
      "\u001b[1;32mc:\\Users\\This\\Desktop\\Download\\Color_classification\\4.infer.ipynb Cell 6\u001b[0m in \u001b[0;36m<cell line: 18>\u001b[1;34m()\u001b[0m\n\u001b[0;32m     <a href='vscode-notebook-cell:/c%3A/Users/This/Desktop/Download/Color_classification/4.infer.ipynb#X12sZmlsZQ%3D%3D?line=15'>16</a>\u001b[0m image \u001b[39m=\u001b[39m cv2\u001b[39m.\u001b[39mimread(\u001b[39m'\u001b[39m\u001b[39mdataset/train/purple/0a55164268.jpg\u001b[39m\u001b[39m'\u001b[39m)\n\u001b[0;32m     <a href='vscode-notebook-cell:/c%3A/Users/This/Desktop/Download/Color_classification/4.infer.ipynb#X12sZmlsZQ%3D%3D?line=16'>17</a>\u001b[0m color \u001b[39m=\u001b[39m \u001b[39m\"\u001b[39m\u001b[39mTEST\u001b[39m\u001b[39m\"\u001b[39m\n\u001b[1;32m---> <a href='vscode-notebook-cell:/c%3A/Users/This/Desktop/Download/Color_classification/4.infer.ipynb#X12sZmlsZQ%3D%3D?line=17'>18</a>\u001b[0m print_color(image, color)\n",
      "\u001b[1;32mc:\\Users\\This\\Desktop\\Download\\Color_classification\\4.infer.ipynb Cell 6\u001b[0m in \u001b[0;36mprint_color\u001b[1;34m(image, color)\u001b[0m\n\u001b[0;32m      <a href='vscode-notebook-cell:/c%3A/Users/This/Desktop/Download/Color_classification/4.infer.ipynb#X12sZmlsZQ%3D%3D?line=7'>8</a>\u001b[0m color       \u001b[39m=\u001b[39m (\u001b[39m255\u001b[39m, \u001b[39m0\u001b[39m, \u001b[39m0\u001b[39m)\n\u001b[0;32m      <a href='vscode-notebook-cell:/c%3A/Users/This/Desktop/Download/Color_classification/4.infer.ipynb#X12sZmlsZQ%3D%3D?line=8'>9</a>\u001b[0m thickness   \u001b[39m=\u001b[39m \u001b[39m1\u001b[39m\n\u001b[1;32m---> <a href='vscode-notebook-cell:/c%3A/Users/This/Desktop/Download/Color_classification/4.infer.ipynb#X12sZmlsZQ%3D%3D?line=10'>11</a>\u001b[0m image_new \u001b[39m=\u001b[39m cv2\u001b[39m.\u001b[39;49mputText(image, color, org, font, \n\u001b[0;32m     <a href='vscode-notebook-cell:/c%3A/Users/This/Desktop/Download/Color_classification/4.infer.ipynb#X12sZmlsZQ%3D%3D?line=11'>12</a>\u001b[0m                fontScale, color, thickness, cv2\u001b[39m.\u001b[39;49mLINE_AA)\n\u001b[0;32m     <a href='vscode-notebook-cell:/c%3A/Users/This/Desktop/Download/Color_classification/4.infer.ipynb#X12sZmlsZQ%3D%3D?line=12'>13</a>\u001b[0m cv2\u001b[39m.\u001b[39mimwrite(\u001b[39m'\u001b[39m\u001b[39mtest_image/new\u001b[39m\u001b[39m'\u001b[39m, image_new)\n",
      "\u001b[1;31merror\u001b[0m: OpenCV(4.6.0) :-1: error: (-5:Bad argument) in function 'putText'\n> Overload resolution failed:\n>  - Can't convert object to 'str' for 'text'\n>  - Can't convert object to 'str' for 'text'\n"
     ]
    }
   ],
   "source": [
    "import cv2\n",
    "\n",
    "def print_color(image, color):\n",
    "    font        = cv2.FONT_HERSHEY_SIMPLEX\n",
    "    (h,w,c)     = image.shape\n",
    "    org         = (w//2-10,h//2-10)\n",
    "    fontScale   = 1\n",
    "    color       = (255, 0, 0)\n",
    "    thickness   = 1\n",
    "    \n",
    "    image_new = cv2.putText(image, color, org, font, \n",
    "                   fontScale, color, thickness, cv2.LINE_AA)\n",
    "    cv2.imwrite('test_image/new', image_new)\n",
    "    # return(image_new)\n",
    "\n",
    "image = cv2.imread('dataset/train/purple/0a55164268.jpg')\n",
    "color = \"TEST\"\n",
    "print_color(image, color)\n",
    "\n"
   ]
  },
  {
   "cell_type": "code",
   "execution_count": 20,
   "metadata": {},
   "outputs": [
    {
     "ename": "error",
     "evalue": "OpenCV(4.6.0) :-1: error: (-5:Bad argument) in function 'putText'\n> Overload resolution failed:\n>  - Can't convert object to 'str' for 'text'\n>  - Can't convert object to 'str' for 'text'\n",
     "output_type": "error",
     "traceback": [
      "\u001b[1;31m---------------------------------------------------------------------------\u001b[0m",
      "\u001b[1;31merror\u001b[0m                                     Traceback (most recent call last)",
      "\u001b[1;32mc:\\Users\\This\\Desktop\\Download\\Color_classification\\4.infer.ipynb Cell 7\u001b[0m in \u001b[0;36m<cell line: 7>\u001b[1;34m()\u001b[0m\n\u001b[0;32m     <a href='vscode-notebook-cell:/c%3A/Users/This/Desktop/Download/Color_classification/4.infer.ipynb#X11sZmlsZQ%3D%3D?line=10'>11</a>\u001b[0m \u001b[39m# print(path)\u001b[39;00m\n\u001b[0;32m     <a href='vscode-notebook-cell:/c%3A/Users/This/Desktop/Download/Color_classification/4.infer.ipynb#X11sZmlsZQ%3D%3D?line=11'>12</a>\u001b[0m \u001b[39m# print(path_x)\u001b[39;00m\n\u001b[0;32m     <a href='vscode-notebook-cell:/c%3A/Users/This/Desktop/Download/Color_classification/4.infer.ipynb#X11sZmlsZQ%3D%3D?line=12'>13</a>\u001b[0m \u001b[39m# color = infer(model, path, TAGS)\u001b[39;00m\n\u001b[0;32m     <a href='vscode-notebook-cell:/c%3A/Users/This/Desktop/Download/Color_classification/4.infer.ipynb#X11sZmlsZQ%3D%3D?line=13'>14</a>\u001b[0m color \u001b[39m=\u001b[39m \u001b[39m\"\u001b[39m\u001b[39mTEST\u001b[39m\u001b[39m\"\u001b[39m\n\u001b[1;32m---> <a href='vscode-notebook-cell:/c%3A/Users/This/Desktop/Download/Color_classification/4.infer.ipynb#X11sZmlsZQ%3D%3D?line=14'>15</a>\u001b[0m image_new \u001b[39m=\u001b[39m print_color(image, color)\n\u001b[0;32m     <a href='vscode-notebook-cell:/c%3A/Users/This/Desktop/Download/Color_classification/4.infer.ipynb#X11sZmlsZQ%3D%3D?line=15'>16</a>\u001b[0m cv2\u001b[39m.\u001b[39mimwrite(\u001b[39m'\u001b[39m\u001b[39mtest_image/\u001b[39m\u001b[39m'\u001b[39m\u001b[39m+\u001b[39m path_x, image_new)\n",
      "\u001b[1;32mc:\\Users\\This\\Desktop\\Download\\Color_classification\\4.infer.ipynb Cell 7\u001b[0m in \u001b[0;36mprint_color\u001b[1;34m(image, color)\u001b[0m\n\u001b[0;32m      <a href='vscode-notebook-cell:/c%3A/Users/This/Desktop/Download/Color_classification/4.infer.ipynb#X11sZmlsZQ%3D%3D?line=7'>8</a>\u001b[0m color       \u001b[39m=\u001b[39m (\u001b[39m255\u001b[39m, \u001b[39m0\u001b[39m, \u001b[39m0\u001b[39m)\n\u001b[0;32m      <a href='vscode-notebook-cell:/c%3A/Users/This/Desktop/Download/Color_classification/4.infer.ipynb#X11sZmlsZQ%3D%3D?line=8'>9</a>\u001b[0m thickness   \u001b[39m=\u001b[39m \u001b[39m1\u001b[39m\n\u001b[1;32m---> <a href='vscode-notebook-cell:/c%3A/Users/This/Desktop/Download/Color_classification/4.infer.ipynb#X11sZmlsZQ%3D%3D?line=10'>11</a>\u001b[0m image_new \u001b[39m=\u001b[39m cv2\u001b[39m.\u001b[39;49mputText(image, color, org, font, \n\u001b[0;32m     <a href='vscode-notebook-cell:/c%3A/Users/This/Desktop/Download/Color_classification/4.infer.ipynb#X11sZmlsZQ%3D%3D?line=11'>12</a>\u001b[0m                fontScale, color, thickness, cv2\u001b[39m.\u001b[39;49mLINE_AA)\n",
      "\u001b[1;31merror\u001b[0m: OpenCV(4.6.0) :-1: error: (-5:Bad argument) in function 'putText'\n> Overload resolution failed:\n>  - Can't convert object to 'str' for 'text'\n>  - Can't convert object to 'str' for 'text'\n"
     ]
    }
   ],
   "source": [
    "import os \n",
    "import cv2\n",
    "\n",
    "os.makedirs('test_image/', exist_ok = True)\n",
    "files   = os.listdir('C:/Users/This/Desktop/Download/hj3vvx5946-1/Splited_dataset/test/Suzuki_margala/')\n",
    "link = 'C:/Users/This/Desktop/Download/hj3vvx5946-1/Splited_dataset/test/Suzuki_margala/'\n",
    "for path in files:\n",
    "    image           = cv2.imread(link + path)\n",
    "    path_x = path\n",
    "    path = link + path\n",
    "    color = infer(model, path, TAGS)\n",
    "    image_new = print_color(image, color)\n",
    "    cv2.imwrite('test_image/'+ path_x, image_new)\n"
   ]
  },
  {
   "cell_type": "code",
   "execution_count": null,
   "metadata": {},
   "outputs": [],
   "source": [
    "# import os \n",
    "\n",
    "# count  = 0\n",
    "# files = os.listdir('E:/Myspace/color_car/test/')\n",
    "# for path in files:\n",
    "#         print(path)\n",
    "#         path = 'E:/Myspace/color_car/test/' + path\n",
    "#         color = infer(model, path, TAGS)\n",
    "#         print(color)\n",
    "        # name = path[26:path.index(\".jpg\")]\n",
    "        # with open('E:/Myspace/color_car/ss/' + name + '.txt', 'r') as file:\n",
    "        #         for line in file:\n",
    "        #                 line = line.lower()\n",
    "        #                 print(line)\n",
    "                        # if line == color:\n",
    "                        #         count = count + 1\n",
    "                        # else: count = count \n",
    "#         acc = count*100/len(files)\n",
    "# print(acc)"
   ]
  },
  {
   "cell_type": "code",
   "execution_count": 119,
   "metadata": {},
   "outputs": [],
   "source": [
    "#RESIZE IMAGE FOLDER\n",
    "\n",
    "# from PIL import Image\n",
    "# import os, sys\n",
    "\n",
    "\n",
    "# os.makedirs('E:/Myspace/color_car/test_rs/', exist_ok = True)\n",
    "# path = \"E:/Myspace/color_car/test/\"\n",
    "# dirs = os.listdir(path)\n",
    "\n",
    "# def resize():\n",
    "#     for item in dirs:\n",
    "#         if os.path.isfile(path+item):\n",
    "#             im = Image.open(path+item)\n",
    "#             f, e = os.path.splitext(path+item)\n",
    "#             name = f[26::]\n",
    "#             imResize = im.resize((224,224), Image.ANTIALIAS)\n",
    "#             imResize.save(\"E:/Myspace/color_car/test_rs/\" + name + '.jpg', 'JPEG', quality=90)\n",
    "\n",
    "# resize()"
   ]
  },
  {
   "cell_type": "code",
   "execution_count": 120,
   "metadata": {},
   "outputs": [
    {
     "name": "stdout",
     "output_type": "stream",
     "text": [
      "E:/Myspace/color_car/test/1658720196.1455219\n",
      "1658720196.1455219\n",
      "E:/Myspace/color_car/test/1658720204.446102\n",
      "1658720204.446102\n",
      "E:/Myspace/color_car/test/1658720213.6281214\n",
      "1658720213.6281214\n",
      "E:/Myspace/color_car/test/1658720215.9911585\n",
      "1658720215.9911585\n",
      "E:/Myspace/color_car/test/1658720221.9419231\n",
      "1658720221.9419231\n",
      "E:/Myspace/color_car/test/1658720226.5291617\n",
      "1658720226.5291617\n",
      "E:/Myspace/color_car/test/1658720226.6576865\n",
      "1658720226.6576865\n",
      "E:/Myspace/color_car/test/1658720232.3850217\n",
      "1658720232.3850217\n",
      "E:/Myspace/color_car/test/1658720239.1570005\n",
      "1658720239.1570005\n",
      "E:/Myspace/color_car/test/1658720250.5333529\n",
      "1658720250.5333529\n",
      "E:/Myspace/color_car/test/1658720253.977063\n",
      "1658720253.977063\n",
      "E:/Myspace/color_car/test/1658720324.866475\n",
      "1658720324.866475\n",
      "E:/Myspace/color_car/test/1658720324.867473\n",
      "1658720324.867473\n",
      "E:/Myspace/color_car/test/1658720326.9763906\n",
      "1658720326.9763906\n",
      "E:/Myspace/color_car/test/1658720333.9930859\n",
      "1658720333.9930859\n",
      "E:/Myspace/color_car/test/1658720335.3278677\n",
      "1658720335.3278677\n",
      "E:/Myspace/color_car/test/1658720335.8675838\n",
      "1658720335.8675838\n",
      "E:/Myspace/color_car/test/1658720338.3559694\n",
      "1658720338.3559694\n",
      "E:/Myspace/color_car/test/1658720354.2176454\n",
      "1658720354.2176454\n",
      "E:/Myspace/color_car/test/1658720354.9021466\n",
      "1658720354.9021466\n",
      "E:/Myspace/color_car/test/1658720395.431182\n",
      "1658720395.431182\n",
      "E:/Myspace/color_car/test/1658720450.1564236\n",
      "1658720450.1564236\n",
      "E:/Myspace/color_car/test/1658720461.873486\n",
      "1658720461.873486\n",
      "E:/Myspace/color_car/test/1658720462.493312\n",
      "1658720462.493312\n",
      "E:/Myspace/color_car/test/1658720463.4979057\n",
      "1658720463.4979057\n",
      "E:/Myspace/color_car/test/1658720469.9698043\n",
      "1658720469.9698043\n",
      "E:/Myspace/color_car/test/1658720472.4379978\n",
      "1658720472.4379978\n",
      "E:/Myspace/color_car/test/1658720524.6479678\n",
      "1658720524.6479678\n",
      "E:/Myspace/color_car/test/1658720549.4110658\n",
      "1658720549.4110658\n",
      "E:/Myspace/color_car/test/1658720555.0341053\n",
      "1658720555.0341053\n",
      "E:/Myspace/color_car/test/1658720563.917625\n",
      "1658720563.917625\n",
      "E:/Myspace/color_car/test/1658720582.93898\n",
      "1658720582.93898\n",
      "E:/Myspace/color_car/test/1658720595.7322261\n",
      "1658720595.7322261\n",
      "E:/Myspace/color_car/test/1658720608.037574\n",
      "1658720608.037574\n",
      "E:/Myspace/color_car/test/1658720613.56077\n",
      "1658720613.56077\n",
      "E:/Myspace/color_car/test/1658720618.731179\n",
      "1658720618.731179\n",
      "E:/Myspace/color_car/test/1658720618.8701098\n",
      "1658720618.8701098\n",
      "E:/Myspace/color_car/test/1658720619.9468863\n",
      "1658720619.9468863\n",
      "E:/Myspace/color_car/test/1658720620.998512\n",
      "1658720620.998512\n",
      "E:/Myspace/color_car/test/1658720626.0259347\n",
      "1658720626.0259347\n",
      "E:/Myspace/color_car/test/1658720633.9038339\n",
      "1658720633.9038339\n",
      "E:/Myspace/color_car/test/1658720635.888822\n",
      "1658720635.888822\n",
      "E:/Myspace/color_car/test/1658720636.153633\n",
      "1658720636.153633\n",
      "E:/Myspace/color_car/test/1658720638.399044\n",
      "1658720638.399044\n",
      "E:/Myspace/color_car/test/1658720650.0150943\n",
      "1658720650.0150943\n",
      "E:/Myspace/color_car/test/1658720651.771436\n",
      "1658720651.771436\n",
      "E:/Myspace/color_car/test/1658720671.449426\n",
      "1658720671.449426\n"
     ]
    },
    {
     "ename": "KeyboardInterrupt",
     "evalue": "",
     "output_type": "error",
     "traceback": [
      "\u001b[1;31m---------------------------------------------------------------------------\u001b[0m",
      "\u001b[1;31mKeyboardInterrupt\u001b[0m                         Traceback (most recent call last)",
      "\u001b[1;32mc:\\Users\\This\\Desktop\\Download\\Color_classification\\4.infer.ipynb Cell 8\u001b[0m in \u001b[0;36m<cell line: 12>\u001b[1;34m()\u001b[0m\n\u001b[0;32m     <a href='vscode-notebook-cell:/c%3A/Users/This/Desktop/Download/Color_classification/4.infer.ipynb#W6sZmlsZQ%3D%3D?line=9'>10</a>\u001b[0m             name \u001b[39m=\u001b[39m f[\u001b[39m26\u001b[39m::]\n\u001b[0;32m     <a href='vscode-notebook-cell:/c%3A/Users/This/Desktop/Download/Color_classification/4.infer.ipynb#W6sZmlsZQ%3D%3D?line=10'>11</a>\u001b[0m             \u001b[39mprint\u001b[39m(name)\n\u001b[1;32m---> <a href='vscode-notebook-cell:/c%3A/Users/This/Desktop/Download/Color_classification/4.infer.ipynb#W6sZmlsZQ%3D%3D?line=11'>12</a>\u001b[0m resize()\n",
      "\u001b[1;32mc:\\Users\\This\\Desktop\\Download\\Color_classification\\4.infer.ipynb Cell 8\u001b[0m in \u001b[0;36mresize\u001b[1;34m()\u001b[0m\n\u001b[0;32m      <a href='vscode-notebook-cell:/c%3A/Users/This/Desktop/Download/Color_classification/4.infer.ipynb#W6sZmlsZQ%3D%3D?line=4'>5</a>\u001b[0m \u001b[39mfor\u001b[39;00m item \u001b[39min\u001b[39;00m dirs:\n\u001b[0;32m      <a href='vscode-notebook-cell:/c%3A/Users/This/Desktop/Download/Color_classification/4.infer.ipynb#W6sZmlsZQ%3D%3D?line=5'>6</a>\u001b[0m     \u001b[39mif\u001b[39;00m os\u001b[39m.\u001b[39mpath\u001b[39m.\u001b[39misfile(path\u001b[39m+\u001b[39mitem):\n\u001b[1;32m----> <a href='vscode-notebook-cell:/c%3A/Users/This/Desktop/Download/Color_classification/4.infer.ipynb#W6sZmlsZQ%3D%3D?line=6'>7</a>\u001b[0m         im \u001b[39m=\u001b[39m Image\u001b[39m.\u001b[39;49mopen(path\u001b[39m+\u001b[39;49mitem)\n\u001b[0;32m      <a href='vscode-notebook-cell:/c%3A/Users/This/Desktop/Download/Color_classification/4.infer.ipynb#W6sZmlsZQ%3D%3D?line=7'>8</a>\u001b[0m         f, e \u001b[39m=\u001b[39m os\u001b[39m.\u001b[39mpath\u001b[39m.\u001b[39msplitext(path\u001b[39m+\u001b[39mitem)\n\u001b[0;32m      <a href='vscode-notebook-cell:/c%3A/Users/This/Desktop/Download/Color_classification/4.infer.ipynb#W6sZmlsZQ%3D%3D?line=8'>9</a>\u001b[0m         \u001b[39mprint\u001b[39m(f)\n",
      "File \u001b[1;32mc:\\Users\\This\\anaconda3\\lib\\site-packages\\PIL\\Image.py:2953\u001b[0m, in \u001b[0;36mopen\u001b[1;34m(fp, mode, formats)\u001b[0m\n\u001b[0;32m   2950\u001b[0m     filename \u001b[39m=\u001b[39m fp\n\u001b[0;32m   2952\u001b[0m \u001b[39mif\u001b[39;00m filename:\n\u001b[1;32m-> 2953\u001b[0m     fp \u001b[39m=\u001b[39m builtins\u001b[39m.\u001b[39;49mopen(filename, \u001b[39m\"\u001b[39;49m\u001b[39mrb\u001b[39;49m\u001b[39m\"\u001b[39;49m)\n\u001b[0;32m   2954\u001b[0m     exclusive_fp \u001b[39m=\u001b[39m \u001b[39mTrue\u001b[39;00m\n\u001b[0;32m   2956\u001b[0m \u001b[39mtry\u001b[39;00m:\n",
      "\u001b[1;31mKeyboardInterrupt\u001b[0m: "
     ]
    }
   ],
   "source": [
    "# path = \"E:/Myspace/color_car/test/\"\n",
    "# dirs = os.listdir(path)\n",
    "\n",
    "# def resize():\n",
    "#     for item in dirs:\n",
    "#         if os.path.isfile(path+item):\n",
    "#             im = Image.open(path+item)\n",
    "#             f, e = os.path.splitext(path+item)\n",
    "#             print(f)\n",
    "#             name = f[26::]\n",
    "#             print(name)\n",
    "# resize()"
   ]
  }
 ],
 "metadata": {
  "kernelspec": {
   "display_name": "Python 3.9.12 ('base')",
   "language": "python",
   "name": "python3"
  },
  "language_info": {
   "codemirror_mode": {
    "name": "ipython",
    "version": 3
   },
   "file_extension": ".py",
   "mimetype": "text/x-python",
   "name": "python",
   "nbconvert_exporter": "python",
   "pygments_lexer": "ipython3",
   "version": "3.9.12"
  },
  "orig_nbformat": 4,
  "vscode": {
   "interpreter": {
    "hash": "dcba4c4f6097e3fa0082611b72b6f445cc0e37ca0dd7bdcdc74e8140e51a0e34"
   }
  }
 },
 "nbformat": 4,
 "nbformat_minor": 2
}
